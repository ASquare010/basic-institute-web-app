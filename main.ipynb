{
 "cells": [
  {
   "cell_type": "code",
   "execution_count": 1,
   "metadata": {},
   "outputs": [],
   "source": [
    "from flask_cors import CORS\n",
    "from flask import Flask, render_template, request, redirect,session, url_for,jsonify\n",
    "from flask_sqlalchemy import SQLAlchemy\n",
    "\n",
    "import os\n",
    "from distutils.util import strtobool\n"
   ]
  },
  {
   "cell_type": "code",
   "execution_count": 2,
   "metadata": {},
   "outputs": [],
   "source": [
    "app = Flask(__name__)\n",
    "CORS(app)  # Enable CORS for all routes\n",
    "app.secret_key = os.urandom(24)\n",
    "\n",
    "app.config['SQLALCHEMY_DATABASE_URI'] = 'sqlite:///users.db'\n",
    "db = SQLAlchemy(app)"
   ]
  },
  {
   "cell_type": "code",
   "execution_count": 3,
   "metadata": {},
   "outputs": [],
   "source": [
    "class Student(db.Model):\n",
    "    id = db.Column(db.Integer, primary_key=True)\n",
    "    name = db.Column(db.String(80), unique=False, nullable=False)\n",
    "    gender = db.Column(db.String(80), unique=False, nullable=False)\n",
    "    dob = db.Column(db.String(80), unique=False, nullable=False)\n",
    "    mobile = db.Column(db.String(120), unique=False, nullable=False)\n",
    "    email = db.Column(db.String(120), unique=False, nullable=False)\n",
    "    image = db.Column(db.String(100), nullable=False)\n",
    "    parentMobile = db.Column(db.String(120), unique=False, nullable=False)\n",
    "    courses = db.relationship('Course', backref='student', lazy=True)\n",
    "\n",
    "    def __repr__(self):\n",
    "        return '<Student %r>' % self.name\n"
   ]
  },
  {
   "cell_type": "code",
   "execution_count": 4,
   "metadata": {},
   "outputs": [],
   "source": [
    "class Course(db.Model):\n",
    "    id = db.Column(db.Integer, primary_key=True)\n",
    "    name = db.Column(db.String(120), unique=False, nullable=False)\n",
    "    details = db.Column(db.String(80), unique=False, nullable=False)\n",
    "    timing = db.Column(db.String(80), unique=False, nullable=False)\n",
    "    location = db.Column(db.String(80), unique=False, nullable=False)\n",
    "    requiresTest = db.Column(db.Boolean, nullable=False)\n",
    "    \n",
    "    teacher_id = db.Column(db.Integer, db.ForeignKey('teacher.id'), nullable=False)\n",
    "    teacher = db.relationship('Teacher', backref=db.backref('courses', lazy=True, cascade='all, delete-orphan'))\n",
    "    student_id = db.Column(db.Integer, db.ForeignKey('student.id'), nullable=True)\n"
   ]
  },
  {
   "cell_type": "code",
   "execution_count": 5,
   "metadata": {},
   "outputs": [],
   "source": [
    "class Teacher(db.Model):\n",
    "    id = db.Column(db.Integer, primary_key=True)\n",
    "    name = db.Column(db.String(80), unique=False, nullable=False)\n",
    "    image = db.Column(db.String(100), nullable=False)\n",
    "    mobile = db.Column(db.String(120), unique=False, nullable=False)\n",
    "    email = db.Column(db.String(80), unique=False, nullable=False)\n",
    "\n"
   ]
  },
  {
   "cell_type": "code",
   "execution_count": 6,
   "metadata": {},
   "outputs": [],
   "source": [
    "def filetoPath(file):\n",
    "    if file and file.filename.endswith('.png'):\n",
    "            filename = file.filename\n",
    "            save_path = os.path.join('static','assets',)\n",
    "            if not os.path.exists(save_path):\n",
    "                os.makedirs(save_path)\n",
    "            file.save(os.path.join(save_path, filename))\n",
    "    return filename"
   ]
  },
  {
   "cell_type": "markdown",
   "metadata": {},
   "source": [
    "Default Route"
   ]
  },
  {
   "cell_type": "code",
   "execution_count": 7,
   "metadata": {},
   "outputs": [],
   "source": [
    "@app.route('/')\n",
    "def index():\n",
    "    if 'course_ids' not in session:\n",
    "           session.setdefault('course_ids', [])\n",
    "    return render_template('index.html')\n",
    "\n"
   ]
  },
  {
   "cell_type": "markdown",
   "metadata": {},
   "source": [
    "Upload Teacher,student and Course Data to dataBase"
   ]
  },
  {
   "cell_type": "code",
   "execution_count": 8,
   "metadata": {},
   "outputs": [],
   "source": [
    "\n",
    "\n",
    "@app.route('/admin')\n",
    "def admin():\n",
    "\n",
    "    students = Student.query.all()\n",
    "    teachers = Teacher.query.all()\n",
    "    courses = Course.query.all()\n",
    "\n",
    "    return render_template('admin.html', teachers=teachers, courses=courses , students=students)\n",
    "\n",
    "@app.route('/submit_teacher', methods=['POST'])\n",
    "def submit_teacher():\n",
    "\n",
    "    name = request.form['name']\n",
    "    file = request.files['image']\n",
    "    image = filetoPath(file)\n",
    "    mobile = request.form['mobile']\n",
    "    email = request.form['email']\n",
    "    \n",
    "    new_teacher = Teacher(name=name, image=image, mobile=mobile, email=email)\n",
    "    db.session.add(new_teacher)\n",
    "    db.session.commit()\n",
    "\n",
    "    return redirect(url_for('admin'))\n",
    "\n",
    "@app.route('/submit_course', methods=['POST'])\n",
    "def submit_course():\n",
    "\n",
    "    name = request.form['name']\n",
    "    details = request.form['details']\n",
    "    timing = request.form['timing']\n",
    "    location = request.form['location']\n",
    "    requiresTest = request.form['requiresTest']\n",
    "    requires_test_bool = bool(strtobool(requiresTest)) if requiresTest else False \n",
    "    teacher_id = request.form['teacher_id']\n",
    "\n",
    "    new_course = Course(name=name, details=details, timing=timing, location=location,requiresTest=requires_test_bool,teacher_id=teacher_id )\n",
    "    db.session.add(new_course)\n",
    "    db.session.commit()\n",
    "    \n",
    "    return redirect(url_for('admin'))\n",
    "\n",
    "\n",
    "\n",
    "@app.route('/submit_student', methods=['POST'])\n",
    "def submit_student():\n",
    "\n",
    "    name = request.form['name']\n",
    "    gender = request.form['gender']\n",
    "    dob = request.form['dob']\n",
    "    file = request.files['imageInput']\n",
    "    image = filetoPath(file)\n",
    "    mobile = request.form['mobile']\n",
    "    email = request.form['email']\n",
    "    parent_mobile = request.form['parentmobile']\n",
    "\n",
    "    new_student = Student(name=name, gender=gender, dob=dob, mobile=mobile, image=image, email=email, parentMobile=parent_mobile)\n",
    "\n",
    "    for course_id in session['course_ids']:\n",
    "        course = Course.query.get(course_id)\n",
    "        if course:\n",
    "            new_student.courses.append(course)\n",
    "\n",
    "\n",
    "    db.session.add(new_student)\n",
    "    db.session.commit()\n",
    "\n",
    "    return redirect(url_for('index'))"
   ]
  },
  {
   "cell_type": "markdown",
   "metadata": {},
   "source": [
    "Handle Deleat data form DataBase  admin page and cascade deleation"
   ]
  },
  {
   "cell_type": "code",
   "execution_count": 9,
   "metadata": {},
   "outputs": [],
   "source": [
    "\n",
    "\n",
    "@app.route('/delete_teacher/<int:teacher_id>', methods=['GET','POST'])\n",
    "def delete_teacher(teacher_id):\n",
    "    \n",
    "    teacher = Teacher.query.get_or_404(teacher_id)\n",
    "    db.session.delete(teacher)\n",
    "    db.session.commit()\n",
    "    \n",
    "    return redirect(url_for('admin'))\n",
    "\n",
    "@app.route('/delete_course/<int:course_id>', methods=['GET','POST'])\n",
    "def delete_course(course_id):\n",
    "    \n",
    "    course = Course.query.get_or_404(course_id)\n",
    "    db.session.delete(course)\n",
    "    db.session.commit()\n",
    "    \n",
    "    return redirect(url_for('admin'))\n",
    "\n",
    "\n",
    "@app.route('/delete_student/<int:student_id>', methods=['GET','POST'])\n",
    "def delete_student(student_id):\n",
    "    \n",
    "    student = Student.query.get_or_404(student_id)\n",
    "    db.session.delete(student)\n",
    "    db.session.commit()\n",
    "    \n",
    "    return redirect(url_for('admin'))"
   ]
  },
  {
   "cell_type": "markdown",
   "metadata": {},
   "source": [
    "Main Page Navigation"
   ]
  },
  {
   "cell_type": "code",
   "execution_count": 10,
   "metadata": {},
   "outputs": [],
   "source": [
    "@app.route('/courses')\n",
    "def courses():\n",
    "\n",
    "    courses = Course.query.all()\n",
    "    \n",
    "\n",
    "    return render_template('courses.html',courses=courses)\n",
    "\n",
    "\n",
    "@app.route('/get_selected_data')\n",
    "def get_selected_data():\n",
    "    selected_data = session['course_ids']  # Assuming session['course_ids'] contains your data\n",
    "    return jsonify(selected_data)\n",
    "\n",
    "\n",
    "@app.route('/about')\n",
    "def about():\n",
    "    return render_template('about.html',)\n",
    "\n",
    "\n",
    "\n",
    "\n",
    "@app.route('/apply')\n",
    "def apply():    \n",
    "\n",
    "    studentCourses=[]\n",
    "    for course_id in session['course_ids']:\n",
    "\n",
    "        course = Course.query.get(course_id)\n",
    "        studentCourses.append(course)\n",
    "            \n",
    "    return render_template('apply.html', studentCourses=studentCourses)\n",
    "\n",
    "\n",
    "@app.route('/enroleCourseId', methods=['POST'])\n",
    "def enroleCourseId():\n",
    "\n",
    "    course_id = request.form['course_id']\n",
    "    \n",
    "    print(course_id)\n",
    "    \n",
    "    if course_id in session['course_ids']:\n",
    "        session['course_ids'].remove(str(course_id))\n",
    "    else:\n",
    "        session['course_ids'].append(str(course_id))\n",
    "    \n",
    "    session.modified = True\n",
    "    print(session['course_ids'])\n",
    "    return redirect(url_for('apply'))\n",
    "\n",
    "\n",
    "\n",
    "@app.route('/coursDetail' , methods=['POST'])\n",
    "def coursDetail():\n",
    "    \n",
    "    course_id = request.form.get('course_id')\n",
    "    course = Course.query.get(course_id)\n",
    "\n",
    "    if course_id in session['course_ids']:\n",
    "        enroled = True\n",
    "    else:\n",
    "        enroled = False\n",
    "\n",
    "    return render_template('coursDetail.html', course=course , enroled=enroled )"
   ]
  },
  {
   "cell_type": "markdown",
   "metadata": {},
   "source": [
    "APP Start"
   ]
  },
  {
   "cell_type": "code",
   "execution_count": 11,
   "metadata": {},
   "outputs": [
    {
     "name": "stdout",
     "output_type": "stream",
     "text": [
      " * Serving Flask app '__main__'\n",
      " * Debug mode: off\n"
     ]
    },
    {
     "name": "stderr",
     "output_type": "stream",
     "text": [
      "WARNING: This is a development server. Do not use it in a production deployment. Use a production WSGI server instead.\n",
      " * Running on all addresses (0.0.0.0)\n",
      " * Running on http://127.0.0.1:5000\n",
      " * Running on http://192.168.0.106:5000\n",
      "Press CTRL+C to quit\n"
     ]
    },
    {
     "name": "stderr",
     "output_type": "stream",
     "text": [
      "192.168.0.106 - - [15/Mar/2024 01:23:09] \"GET / HTTP/1.1\" 200 -\n",
      "192.168.0.106 - - [15/Mar/2024 01:23:09] \"GET /static/js/background.js HTTP/1.1\" 304 -\n",
      "192.168.0.106 - - [15/Mar/2024 01:23:09] \"GET /static/css/styles.css HTTP/1.1\" 304 -\n",
      "192.168.0.106 - - [15/Mar/2024 01:23:09] \"GET /static/assets/studentStand.png HTTP/1.1\" 304 -\n",
      "192.168.0.106 - - [15/Mar/2024 01:23:09] \"GET /static/assets/map.png HTTP/1.1\" 304 -\n"
     ]
    }
   ],
   "source": [
    "\n",
    "if __name__ == '__main__':\n",
    "    with app.app_context():\n",
    "        db.create_all()\n",
    "    app.run(host='0.0.0.0', debug=False)\n"
   ]
  }
 ],
 "metadata": {
  "kernelspec": {
   "display_name": "Python 3",
   "language": "python",
   "name": "python3"
  },
  "language_info": {
   "codemirror_mode": {
    "name": "ipython",
    "version": 3
   },
   "file_extension": ".py",
   "mimetype": "text/x-python",
   "name": "python",
   "nbconvert_exporter": "python",
   "pygments_lexer": "ipython3",
   "version": "3.11.5"
  }
 },
 "nbformat": 4,
 "nbformat_minor": 2
}
